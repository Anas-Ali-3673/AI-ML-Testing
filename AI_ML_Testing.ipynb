{
  "nbformat": 4,
  "nbformat_minor": 0,
  "metadata": {
    "colab": {
      "provenance": [],
      "authorship_tag": "ABX9TyNA+Q39hajlzQHsrVej/qtx",
      "include_colab_link": true
    },
    "kernelspec": {
      "name": "python3",
      "display_name": "Python 3"
    },
    "language_info": {
      "name": "python"
    }
  },
  "cells": [
    {
      "cell_type": "markdown",
      "metadata": {
        "id": "view-in-github",
        "colab_type": "text"
      },
      "source": [
        "<a href=\"https://colab.research.google.com/github/Anas-Ali-3673/AI-ML-Testing/blob/main/AI_ML_Testing.ipynb\" target=\"_parent\"><img src=\"https://colab.research.google.com/assets/colab-badge.svg\" alt=\"Open In Colab\"/></a>"
      ]
    },
    {
      "cell_type": "code",
      "execution_count": 1,
      "metadata": {
        "colab": {
          "base_uri": "https://localhost:8080/"
        },
        "id": "YORahjAb0q_q",
        "outputId": "d0a4a8e3-12bc-4ccb-8fd3-85ea32f74b46"
      },
      "outputs": [
        {
          "output_type": "stream",
          "name": "stdout",
          "text": [
            "Cloning into 'AI-ML-Testing'...\n",
            "remote: Enumerating objects: 15, done.\u001b[K\n",
            "remote: Counting objects: 100% (15/15), done.\u001b[K\n",
            "remote: Compressing objects: 100% (10/10), done.\u001b[K\n",
            "remote: Total 15 (delta 1), reused 15 (delta 1), pack-reused 0 (from 0)\u001b[K\n",
            "Receiving objects: 100% (15/15), done.\n",
            "Resolving deltas: 100% (1/1), done.\n"
          ]
        }
      ],
      "source": [
        "!git clone https://github.com/Anas-Ali-3673/AI-ML-Testing.git"
      ]
    },
    {
      "cell_type": "code",
      "source": [
        "!cd /content/AI-ML-Testing\n",
        "!ls"
      ],
      "metadata": {
        "colab": {
          "base_uri": "https://localhost:8080/"
        },
        "id": "P-NlUDDq3Esz",
        "outputId": "feafd282-b48d-40b8-dd6d-f13d58380a40"
      },
      "execution_count": 9,
      "outputs": [
        {
          "output_type": "stream",
          "name": "stdout",
          "text": [
            "AI-ML-Testing  sample_data\n"
          ]
        }
      ]
    },
    {
      "cell_type": "code",
      "source": [
        "!pip install -r /content/AI-ML-Testing/requirements.txt"
      ],
      "metadata": {
        "colab": {
          "base_uri": "https://localhost:8080/"
        },
        "id": "6hTdBDLZ3XBT",
        "outputId": "2ac485d2-6d4d-480d-8800-7ec1e600f834"
      },
      "execution_count": 11,
      "outputs": [
        {
          "output_type": "stream",
          "name": "stdout",
          "text": [
            "Requirement already satisfied: blinker in /usr/local/lib/python3.10/dist-packages (from -r /content/AI-ML-Testing/requirements.txt (line 1)) (1.9.0)\n",
            "Requirement already satisfied: certifi in /usr/local/lib/python3.10/dist-packages (from -r /content/AI-ML-Testing/requirements.txt (line 2)) (2024.8.30)\n",
            "Requirement already satisfied: charset-normalizer in /usr/local/lib/python3.10/dist-packages (from -r /content/AI-ML-Testing/requirements.txt (line 3)) (3.4.0)\n",
            "Requirement already satisfied: click in /usr/local/lib/python3.10/dist-packages (from -r /content/AI-ML-Testing/requirements.txt (line 4)) (8.1.7)\n",
            "Requirement already satisfied: colorama in /usr/local/lib/python3.10/dist-packages (from -r /content/AI-ML-Testing/requirements.txt (line 5)) (0.4.6)\n",
            "Requirement already satisfied: Flask in /usr/local/lib/python3.10/dist-packages (from -r /content/AI-ML-Testing/requirements.txt (line 6)) (3.1.0)\n",
            "Requirement already satisfied: idna in /usr/local/lib/python3.10/dist-packages (from -r /content/AI-ML-Testing/requirements.txt (line 7)) (3.10)\n",
            "Requirement already satisfied: itsdangerous in /usr/local/lib/python3.10/dist-packages (from -r /content/AI-ML-Testing/requirements.txt (line 8)) (2.2.0)\n",
            "Requirement already satisfied: Jinja2 in /usr/local/lib/python3.10/dist-packages (from -r /content/AI-ML-Testing/requirements.txt (line 9)) (3.1.4)\n",
            "Requirement already satisfied: MarkupSafe in /usr/local/lib/python3.10/dist-packages (from -r /content/AI-ML-Testing/requirements.txt (line 10)) (3.0.2)\n",
            "Requirement already satisfied: requests in /usr/local/lib/python3.10/dist-packages (from -r /content/AI-ML-Testing/requirements.txt (line 11)) (2.32.3)\n",
            "Requirement already satisfied: urllib3 in /usr/local/lib/python3.10/dist-packages (from -r /content/AI-ML-Testing/requirements.txt (line 12)) (2.2.3)\n",
            "Requirement already satisfied: Werkzeug in /usr/local/lib/python3.10/dist-packages (from -r /content/AI-ML-Testing/requirements.txt (line 13)) (3.1.3)\n",
            "Requirement already satisfied: scikit-learn in /usr/local/lib/python3.10/dist-packages (from -r /content/AI-ML-Testing/requirements.txt (line 14)) (1.0.2)\n",
            "Requirement already satisfied: pandas in /usr/local/lib/python3.10/dist-packages (from -r /content/AI-ML-Testing/requirements.txt (line 15)) (1.3.3)\n",
            "Requirement already satisfied: deepchecks in /usr/local/lib/python3.10/dist-packages (from -r /content/AI-ML-Testing/requirements.txt (line 16)) (0.8.0)\n",
            "Requirement already satisfied: numpy>=1.14.6 in /usr/local/lib/python3.10/dist-packages (from scikit-learn->-r /content/AI-ML-Testing/requirements.txt (line 14)) (1.26.4)\n",
            "Requirement already satisfied: scipy>=1.1.0 in /usr/local/lib/python3.10/dist-packages (from scikit-learn->-r /content/AI-ML-Testing/requirements.txt (line 14)) (1.13.1)\n",
            "Requirement already satisfied: joblib>=0.11 in /usr/local/lib/python3.10/dist-packages (from scikit-learn->-r /content/AI-ML-Testing/requirements.txt (line 14)) (1.4.2)\n",
            "Requirement already satisfied: threadpoolctl>=2.0.0 in /usr/local/lib/python3.10/dist-packages (from scikit-learn->-r /content/AI-ML-Testing/requirements.txt (line 14)) (3.5.0)\n",
            "Requirement already satisfied: python-dateutil>=2.7.3 in /usr/local/lib/python3.10/dist-packages (from pandas->-r /content/AI-ML-Testing/requirements.txt (line 15)) (2.8.2)\n",
            "Requirement already satisfied: pytz>=2017.3 in /usr/local/lib/python3.10/dist-packages (from pandas->-r /content/AI-ML-Testing/requirements.txt (line 15)) (2024.2)\n",
            "Requirement already satisfied: jsonpickle>=2 in /usr/local/lib/python3.10/dist-packages (from deepchecks->-r /content/AI-ML-Testing/requirements.txt (line 16)) (4.0.0)\n",
            "Requirement already satisfied: PyNomaly>=0.3.3 in /usr/local/lib/python3.10/dist-packages (from deepchecks->-r /content/AI-ML-Testing/requirements.txt (line 16)) (0.3.4)\n",
            "Requirement already satisfied: typing-extensions>=3.7.4.3 in /usr/local/lib/python3.10/dist-packages (from deepchecks->-r /content/AI-ML-Testing/requirements.txt (line 16)) (4.12.2)\n",
            "Requirement already satisfied: tqdm>=4.62.3 in /usr/local/lib/python3.10/dist-packages (from deepchecks->-r /content/AI-ML-Testing/requirements.txt (line 16)) (4.66.6)\n",
            "Requirement already satisfied: category-encoders>=2.3.0 in /usr/local/lib/python3.10/dist-packages (from deepchecks->-r /content/AI-ML-Testing/requirements.txt (line 16)) (2.6.4)\n",
            "Requirement already satisfied: statsmodels>=0.11.0 in /usr/local/lib/python3.10/dist-packages (from deepchecks->-r /content/AI-ML-Testing/requirements.txt (line 16)) (0.14.1)\n",
            "Requirement already satisfied: plotly==5.5.0 in /usr/local/lib/python3.10/dist-packages (from deepchecks->-r /content/AI-ML-Testing/requirements.txt (line 16)) (5.5.0)\n",
            "Requirement already satisfied: matplotlib>=3.3.4 in /usr/local/lib/python3.10/dist-packages (from deepchecks->-r /content/AI-ML-Testing/requirements.txt (line 16)) (3.8.0)\n",
            "Requirement already satisfied: ipython<8,>=7.15.0 in /usr/local/lib/python3.10/dist-packages (from deepchecks->-r /content/AI-ML-Testing/requirements.txt (line 16)) (7.34.0)\n",
            "Requirement already satisfied: ipykernel>=5.3.0 in /usr/local/lib/python3.10/dist-packages (from deepchecks->-r /content/AI-ML-Testing/requirements.txt (line 16)) (5.5.6)\n",
            "Requirement already satisfied: ipywidgets>=7.6.5 in /usr/local/lib/python3.10/dist-packages (from deepchecks->-r /content/AI-ML-Testing/requirements.txt (line 16)) (7.7.1)\n",
            "Requirement already satisfied: tenacity>=6.2.0 in /usr/local/lib/python3.10/dist-packages (from plotly==5.5.0->deepchecks->-r /content/AI-ML-Testing/requirements.txt (line 16)) (9.0.0)\n",
            "Requirement already satisfied: six in /usr/local/lib/python3.10/dist-packages (from plotly==5.5.0->deepchecks->-r /content/AI-ML-Testing/requirements.txt (line 16)) (1.16.0)\n",
            "Requirement already satisfied: patsy>=0.5.1 in /usr/local/lib/python3.10/dist-packages (from category-encoders>=2.3.0->deepchecks->-r /content/AI-ML-Testing/requirements.txt (line 16)) (1.0.1)\n",
            "Requirement already satisfied: ipython-genutils in /usr/local/lib/python3.10/dist-packages (from ipykernel>=5.3.0->deepchecks->-r /content/AI-ML-Testing/requirements.txt (line 16)) (0.2.0)\n",
            "Requirement already satisfied: traitlets>=4.1.0 in /usr/local/lib/python3.10/dist-packages (from ipykernel>=5.3.0->deepchecks->-r /content/AI-ML-Testing/requirements.txt (line 16)) (5.7.1)\n",
            "Requirement already satisfied: jupyter-client in /usr/local/lib/python3.10/dist-packages (from ipykernel>=5.3.0->deepchecks->-r /content/AI-ML-Testing/requirements.txt (line 16)) (6.1.12)\n",
            "Requirement already satisfied: tornado>=4.2 in /usr/local/lib/python3.10/dist-packages (from ipykernel>=5.3.0->deepchecks->-r /content/AI-ML-Testing/requirements.txt (line 16)) (6.3.3)\n",
            "Requirement already satisfied: setuptools>=18.5 in /usr/local/lib/python3.10/dist-packages (from ipython<8,>=7.15.0->deepchecks->-r /content/AI-ML-Testing/requirements.txt (line 16)) (75.1.0)\n",
            "Requirement already satisfied: jedi>=0.16 in /usr/local/lib/python3.10/dist-packages (from ipython<8,>=7.15.0->deepchecks->-r /content/AI-ML-Testing/requirements.txt (line 16)) (0.19.2)\n",
            "Requirement already satisfied: decorator in /usr/local/lib/python3.10/dist-packages (from ipython<8,>=7.15.0->deepchecks->-r /content/AI-ML-Testing/requirements.txt (line 16)) (4.4.2)\n",
            "Requirement already satisfied: pickleshare in /usr/local/lib/python3.10/dist-packages (from ipython<8,>=7.15.0->deepchecks->-r /content/AI-ML-Testing/requirements.txt (line 16)) (0.7.5)\n",
            "Requirement already satisfied: prompt-toolkit!=3.0.0,!=3.0.1,<3.1.0,>=2.0.0 in /usr/local/lib/python3.10/dist-packages (from ipython<8,>=7.15.0->deepchecks->-r /content/AI-ML-Testing/requirements.txt (line 16)) (3.0.48)\n",
            "Requirement already satisfied: pygments in /usr/local/lib/python3.10/dist-packages (from ipython<8,>=7.15.0->deepchecks->-r /content/AI-ML-Testing/requirements.txt (line 16)) (2.18.0)\n",
            "Requirement already satisfied: backcall in /usr/local/lib/python3.10/dist-packages (from ipython<8,>=7.15.0->deepchecks->-r /content/AI-ML-Testing/requirements.txt (line 16)) (0.2.0)\n",
            "Requirement already satisfied: matplotlib-inline in /usr/local/lib/python3.10/dist-packages (from ipython<8,>=7.15.0->deepchecks->-r /content/AI-ML-Testing/requirements.txt (line 16)) (0.1.7)\n",
            "Requirement already satisfied: pexpect>4.3 in /usr/local/lib/python3.10/dist-packages (from ipython<8,>=7.15.0->deepchecks->-r /content/AI-ML-Testing/requirements.txt (line 16)) (4.9.0)\n",
            "Requirement already satisfied: widgetsnbextension~=3.6.0 in /usr/local/lib/python3.10/dist-packages (from ipywidgets>=7.6.5->deepchecks->-r /content/AI-ML-Testing/requirements.txt (line 16)) (3.6.10)\n",
            "Requirement already satisfied: jupyterlab-widgets>=1.0.0 in /usr/local/lib/python3.10/dist-packages (from ipywidgets>=7.6.5->deepchecks->-r /content/AI-ML-Testing/requirements.txt (line 16)) (3.0.13)\n",
            "Requirement already satisfied: contourpy>=1.0.1 in /usr/local/lib/python3.10/dist-packages (from matplotlib>=3.3.4->deepchecks->-r /content/AI-ML-Testing/requirements.txt (line 16)) (1.3.1)\n",
            "Requirement already satisfied: cycler>=0.10 in /usr/local/lib/python3.10/dist-packages (from matplotlib>=3.3.4->deepchecks->-r /content/AI-ML-Testing/requirements.txt (line 16)) (0.12.1)\n",
            "Requirement already satisfied: fonttools>=4.22.0 in /usr/local/lib/python3.10/dist-packages (from matplotlib>=3.3.4->deepchecks->-r /content/AI-ML-Testing/requirements.txt (line 16)) (4.55.1)\n",
            "Requirement already satisfied: kiwisolver>=1.0.1 in /usr/local/lib/python3.10/dist-packages (from matplotlib>=3.3.4->deepchecks->-r /content/AI-ML-Testing/requirements.txt (line 16)) (1.4.7)\n",
            "Requirement already satisfied: packaging>=20.0 in /usr/local/lib/python3.10/dist-packages (from matplotlib>=3.3.4->deepchecks->-r /content/AI-ML-Testing/requirements.txt (line 16)) (24.2)\n",
            "Requirement already satisfied: pillow>=6.2.0 in /usr/local/lib/python3.10/dist-packages (from matplotlib>=3.3.4->deepchecks->-r /content/AI-ML-Testing/requirements.txt (line 16)) (11.0.0)\n",
            "Requirement already satisfied: pyparsing>=2.3.1 in /usr/local/lib/python3.10/dist-packages (from matplotlib>=3.3.4->deepchecks->-r /content/AI-ML-Testing/requirements.txt (line 16)) (3.2.0)\n",
            "Requirement already satisfied: python-utils in /usr/local/lib/python3.10/dist-packages (from PyNomaly>=0.3.3->deepchecks->-r /content/AI-ML-Testing/requirements.txt (line 16)) (3.9.1)\n",
            "Requirement already satisfied: parso<0.9.0,>=0.8.4 in /usr/local/lib/python3.10/dist-packages (from jedi>=0.16->ipython<8,>=7.15.0->deepchecks->-r /content/AI-ML-Testing/requirements.txt (line 16)) (0.8.4)\n",
            "Requirement already satisfied: ptyprocess>=0.5 in /usr/local/lib/python3.10/dist-packages (from pexpect>4.3->ipython<8,>=7.15.0->deepchecks->-r /content/AI-ML-Testing/requirements.txt (line 16)) (0.7.0)\n",
            "Requirement already satisfied: wcwidth in /usr/local/lib/python3.10/dist-packages (from prompt-toolkit!=3.0.0,!=3.0.1,<3.1.0,>=2.0.0->ipython<8,>=7.15.0->deepchecks->-r /content/AI-ML-Testing/requirements.txt (line 16)) (0.2.13)\n",
            "Requirement already satisfied: notebook>=4.4.1 in /usr/local/lib/python3.10/dist-packages (from widgetsnbextension~=3.6.0->ipywidgets>=7.6.5->deepchecks->-r /content/AI-ML-Testing/requirements.txt (line 16)) (6.5.5)\n",
            "Requirement already satisfied: jupyter-core>=4.6.0 in /usr/local/lib/python3.10/dist-packages (from jupyter-client->ipykernel>=5.3.0->deepchecks->-r /content/AI-ML-Testing/requirements.txt (line 16)) (5.7.2)\n",
            "Requirement already satisfied: pyzmq>=13 in /usr/local/lib/python3.10/dist-packages (from jupyter-client->ipykernel>=5.3.0->deepchecks->-r /content/AI-ML-Testing/requirements.txt (line 16)) (24.0.1)\n",
            "Requirement already satisfied: platformdirs>=2.5 in /usr/local/lib/python3.10/dist-packages (from jupyter-core>=4.6.0->jupyter-client->ipykernel>=5.3.0->deepchecks->-r /content/AI-ML-Testing/requirements.txt (line 16)) (4.3.6)\n",
            "Requirement already satisfied: argon2-cffi in /usr/local/lib/python3.10/dist-packages (from notebook>=4.4.1->widgetsnbextension~=3.6.0->ipywidgets>=7.6.5->deepchecks->-r /content/AI-ML-Testing/requirements.txt (line 16)) (23.1.0)\n",
            "Requirement already satisfied: nbformat in /usr/local/lib/python3.10/dist-packages (from notebook>=4.4.1->widgetsnbextension~=3.6.0->ipywidgets>=7.6.5->deepchecks->-r /content/AI-ML-Testing/requirements.txt (line 16)) (5.10.4)\n",
            "Requirement already satisfied: nbconvert>=5 in /usr/local/lib/python3.10/dist-packages (from notebook>=4.4.1->widgetsnbextension~=3.6.0->ipywidgets>=7.6.5->deepchecks->-r /content/AI-ML-Testing/requirements.txt (line 16)) (7.16.4)\n",
            "Requirement already satisfied: nest-asyncio>=1.5 in /usr/local/lib/python3.10/dist-packages (from notebook>=4.4.1->widgetsnbextension~=3.6.0->ipywidgets>=7.6.5->deepchecks->-r /content/AI-ML-Testing/requirements.txt (line 16)) (1.6.0)\n",
            "Requirement already satisfied: Send2Trash>=1.8.0 in /usr/local/lib/python3.10/dist-packages (from notebook>=4.4.1->widgetsnbextension~=3.6.0->ipywidgets>=7.6.5->deepchecks->-r /content/AI-ML-Testing/requirements.txt (line 16)) (1.8.3)\n",
            "Requirement already satisfied: terminado>=0.8.3 in /usr/local/lib/python3.10/dist-packages (from notebook>=4.4.1->widgetsnbextension~=3.6.0->ipywidgets>=7.6.5->deepchecks->-r /content/AI-ML-Testing/requirements.txt (line 16)) (0.18.1)\n",
            "Requirement already satisfied: prometheus-client in /usr/local/lib/python3.10/dist-packages (from notebook>=4.4.1->widgetsnbextension~=3.6.0->ipywidgets>=7.6.5->deepchecks->-r /content/AI-ML-Testing/requirements.txt (line 16)) (0.21.1)\n",
            "Requirement already satisfied: nbclassic>=0.4.7 in /usr/local/lib/python3.10/dist-packages (from notebook>=4.4.1->widgetsnbextension~=3.6.0->ipywidgets>=7.6.5->deepchecks->-r /content/AI-ML-Testing/requirements.txt (line 16)) (1.1.0)\n",
            "Requirement already satisfied: notebook-shim>=0.2.3 in /usr/local/lib/python3.10/dist-packages (from nbclassic>=0.4.7->notebook>=4.4.1->widgetsnbextension~=3.6.0->ipywidgets>=7.6.5->deepchecks->-r /content/AI-ML-Testing/requirements.txt (line 16)) (0.2.4)\n",
            "Requirement already satisfied: beautifulsoup4 in /usr/local/lib/python3.10/dist-packages (from nbconvert>=5->notebook>=4.4.1->widgetsnbextension~=3.6.0->ipywidgets>=7.6.5->deepchecks->-r /content/AI-ML-Testing/requirements.txt (line 16)) (4.12.3)\n",
            "Requirement already satisfied: bleach!=5.0.0 in /usr/local/lib/python3.10/dist-packages (from nbconvert>=5->notebook>=4.4.1->widgetsnbextension~=3.6.0->ipywidgets>=7.6.5->deepchecks->-r /content/AI-ML-Testing/requirements.txt (line 16)) (6.2.0)\n",
            "Requirement already satisfied: defusedxml in /usr/local/lib/python3.10/dist-packages (from nbconvert>=5->notebook>=4.4.1->widgetsnbextension~=3.6.0->ipywidgets>=7.6.5->deepchecks->-r /content/AI-ML-Testing/requirements.txt (line 16)) (0.7.1)\n",
            "Requirement already satisfied: jupyterlab-pygments in /usr/local/lib/python3.10/dist-packages (from nbconvert>=5->notebook>=4.4.1->widgetsnbextension~=3.6.0->ipywidgets>=7.6.5->deepchecks->-r /content/AI-ML-Testing/requirements.txt (line 16)) (0.3.0)\n",
            "Requirement already satisfied: mistune<4,>=2.0.3 in /usr/local/lib/python3.10/dist-packages (from nbconvert>=5->notebook>=4.4.1->widgetsnbextension~=3.6.0->ipywidgets>=7.6.5->deepchecks->-r /content/AI-ML-Testing/requirements.txt (line 16)) (3.0.2)\n",
            "Requirement already satisfied: nbclient>=0.5.0 in /usr/local/lib/python3.10/dist-packages (from nbconvert>=5->notebook>=4.4.1->widgetsnbextension~=3.6.0->ipywidgets>=7.6.5->deepchecks->-r /content/AI-ML-Testing/requirements.txt (line 16)) (0.10.1)\n",
            "Requirement already satisfied: pandocfilters>=1.4.1 in /usr/local/lib/python3.10/dist-packages (from nbconvert>=5->notebook>=4.4.1->widgetsnbextension~=3.6.0->ipywidgets>=7.6.5->deepchecks->-r /content/AI-ML-Testing/requirements.txt (line 16)) (1.5.1)\n",
            "Requirement already satisfied: tinycss2 in /usr/local/lib/python3.10/dist-packages (from nbconvert>=5->notebook>=4.4.1->widgetsnbextension~=3.6.0->ipywidgets>=7.6.5->deepchecks->-r /content/AI-ML-Testing/requirements.txt (line 16)) (1.4.0)\n",
            "Requirement already satisfied: fastjsonschema>=2.15 in /usr/local/lib/python3.10/dist-packages (from nbformat->notebook>=4.4.1->widgetsnbextension~=3.6.0->ipywidgets>=7.6.5->deepchecks->-r /content/AI-ML-Testing/requirements.txt (line 16)) (2.21.1)\n",
            "Requirement already satisfied: jsonschema>=2.6 in /usr/local/lib/python3.10/dist-packages (from nbformat->notebook>=4.4.1->widgetsnbextension~=3.6.0->ipywidgets>=7.6.5->deepchecks->-r /content/AI-ML-Testing/requirements.txt (line 16)) (4.23.0)\n",
            "Requirement already satisfied: argon2-cffi-bindings in /usr/local/lib/python3.10/dist-packages (from argon2-cffi->notebook>=4.4.1->widgetsnbextension~=3.6.0->ipywidgets>=7.6.5->deepchecks->-r /content/AI-ML-Testing/requirements.txt (line 16)) (21.2.0)\n",
            "Requirement already satisfied: webencodings in /usr/local/lib/python3.10/dist-packages (from bleach!=5.0.0->nbconvert>=5->notebook>=4.4.1->widgetsnbextension~=3.6.0->ipywidgets>=7.6.5->deepchecks->-r /content/AI-ML-Testing/requirements.txt (line 16)) (0.5.1)\n",
            "Requirement already satisfied: attrs>=22.2.0 in /usr/local/lib/python3.10/dist-packages (from jsonschema>=2.6->nbformat->notebook>=4.4.1->widgetsnbextension~=3.6.0->ipywidgets>=7.6.5->deepchecks->-r /content/AI-ML-Testing/requirements.txt (line 16)) (24.2.0)\n",
            "Requirement already satisfied: jsonschema-specifications>=2023.03.6 in /usr/local/lib/python3.10/dist-packages (from jsonschema>=2.6->nbformat->notebook>=4.4.1->widgetsnbextension~=3.6.0->ipywidgets>=7.6.5->deepchecks->-r /content/AI-ML-Testing/requirements.txt (line 16)) (2024.10.1)\n",
            "Requirement already satisfied: referencing>=0.28.4 in /usr/local/lib/python3.10/dist-packages (from jsonschema>=2.6->nbformat->notebook>=4.4.1->widgetsnbextension~=3.6.0->ipywidgets>=7.6.5->deepchecks->-r /content/AI-ML-Testing/requirements.txt (line 16)) (0.35.1)\n",
            "Requirement already satisfied: rpds-py>=0.7.1 in /usr/local/lib/python3.10/dist-packages (from jsonschema>=2.6->nbformat->notebook>=4.4.1->widgetsnbextension~=3.6.0->ipywidgets>=7.6.5->deepchecks->-r /content/AI-ML-Testing/requirements.txt (line 16)) (0.22.3)\n",
            "Requirement already satisfied: jupyter-server<3,>=1.8 in /usr/local/lib/python3.10/dist-packages (from notebook-shim>=0.2.3->nbclassic>=0.4.7->notebook>=4.4.1->widgetsnbextension~=3.6.0->ipywidgets>=7.6.5->deepchecks->-r /content/AI-ML-Testing/requirements.txt (line 16)) (1.24.0)\n",
            "Requirement already satisfied: cffi>=1.0.1 in /usr/local/lib/python3.10/dist-packages (from argon2-cffi-bindings->argon2-cffi->notebook>=4.4.1->widgetsnbextension~=3.6.0->ipywidgets>=7.6.5->deepchecks->-r /content/AI-ML-Testing/requirements.txt (line 16)) (1.17.1)\n",
            "Requirement already satisfied: soupsieve>1.2 in /usr/local/lib/python3.10/dist-packages (from beautifulsoup4->nbconvert>=5->notebook>=4.4.1->widgetsnbextension~=3.6.0->ipywidgets>=7.6.5->deepchecks->-r /content/AI-ML-Testing/requirements.txt (line 16)) (2.6)\n",
            "Requirement already satisfied: pycparser in /usr/local/lib/python3.10/dist-packages (from cffi>=1.0.1->argon2-cffi-bindings->argon2-cffi->notebook>=4.4.1->widgetsnbextension~=3.6.0->ipywidgets>=7.6.5->deepchecks->-r /content/AI-ML-Testing/requirements.txt (line 16)) (2.22)\n",
            "Requirement already satisfied: anyio<4,>=3.1.0 in /usr/local/lib/python3.10/dist-packages (from jupyter-server<3,>=1.8->notebook-shim>=0.2.3->nbclassic>=0.4.7->notebook>=4.4.1->widgetsnbextension~=3.6.0->ipywidgets>=7.6.5->deepchecks->-r /content/AI-ML-Testing/requirements.txt (line 16)) (3.7.1)\n",
            "Requirement already satisfied: websocket-client in /usr/local/lib/python3.10/dist-packages (from jupyter-server<3,>=1.8->notebook-shim>=0.2.3->nbclassic>=0.4.7->notebook>=4.4.1->widgetsnbextension~=3.6.0->ipywidgets>=7.6.5->deepchecks->-r /content/AI-ML-Testing/requirements.txt (line 16)) (1.8.0)\n",
            "Requirement already satisfied: sniffio>=1.1 in /usr/local/lib/python3.10/dist-packages (from anyio<4,>=3.1.0->jupyter-server<3,>=1.8->notebook-shim>=0.2.3->nbclassic>=0.4.7->notebook>=4.4.1->widgetsnbextension~=3.6.0->ipywidgets>=7.6.5->deepchecks->-r /content/AI-ML-Testing/requirements.txt (line 16)) (1.3.1)\n",
            "Requirement already satisfied: exceptiongroup in /usr/local/lib/python3.10/dist-packages (from anyio<4,>=3.1.0->jupyter-server<3,>=1.8->notebook-shim>=0.2.3->nbclassic>=0.4.7->notebook>=4.4.1->widgetsnbextension~=3.6.0->ipywidgets>=7.6.5->deepchecks->-r /content/AI-ML-Testing/requirements.txt (line 16)) (1.2.2)\n"
          ]
        }
      ]
    },
    {
      "cell_type": "code",
      "source": [
        "!python /content/AI-ML-Testing/run_model.py"
      ],
      "metadata": {
        "colab": {
          "base_uri": "https://localhost:8080/"
        },
        "id": "AQPmJXPj4CA0",
        "outputId": "fe905aa7-4a9a-411b-f618-846f1f375e6a"
      },
      "execution_count": 19,
      "outputs": [
        {
          "output_type": "stream",
          "name": "stdout",
          "text": [
            "Model Accuracy: 0.7666666666666667\n"
          ]
        }
      ]
    },
    {
      "cell_type": "code",
      "source": [
        "!python /content/AI-ML-Testing/test_data_validation.py"
      ],
      "metadata": {
        "colab": {
          "base_uri": "https://localhost:8080/"
        },
        "id": "ZEyxqG6t4szr",
        "outputId": "1dd936eb-974d-4a36-ea22-12769f674f81"
      },
      "execution_count": 31,
      "outputs": [
        {
          "output_type": "stream",
          "name": "stdout",
          "text": [
            "Reports saved in validation_reports directory\n"
          ]
        }
      ]
    },
    {
      "cell_type": "code",
      "source": [
        "!python /content/AI-ML-Testing/test_model_performance.py"
      ],
      "metadata": {
        "id": "A3qdVwuCDdMY"
      },
      "execution_count": 42,
      "outputs": []
    },
    {
      "cell_type": "code",
      "source": [
        "!rm -rf performance_reports/\n",
        "!rm -rf validation_reports/"
      ],
      "metadata": {
        "id": "y1Ywz2WwIOvC"
      },
      "execution_count": 41,
      "outputs": []
    },
    {
      "cell_type": "markdown",
      "source": [
        "Saving Project to Drive"
      ],
      "metadata": {
        "id": "QtlusnTyMwkf"
      }
    },
    {
      "cell_type": "code",
      "source": [
        "from google.colab import drive\n",
        "drive.mount('/content/drive')"
      ],
      "metadata": {
        "colab": {
          "base_uri": "https://localhost:8080/"
        },
        "id": "gFqbUszaMzq3",
        "outputId": "1a0526b4-b832-45c2-c988-157a235746a7"
      },
      "execution_count": 58,
      "outputs": [
        {
          "output_type": "stream",
          "name": "stdout",
          "text": [
            "Mounted at /content/drive\n"
          ]
        }
      ]
    },
    {
      "cell_type": "code",
      "source": [
        "!cp -r AI-ML-Testing/ /content/drive/MyDrive/Projects/"
      ],
      "metadata": {
        "id": "T6-ifXTjNVZg"
      },
      "execution_count": 60,
      "outputs": []
    }
  ]
}
